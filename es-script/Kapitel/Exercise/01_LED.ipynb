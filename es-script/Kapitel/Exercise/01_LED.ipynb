{
 "cells": [
  {
   "cell_type": "markdown",
   "source": [
    "# Exercise 1: LED Chaser\n",
    "There are four LEDs in the Stefi Shield. The task is to \n",
    "* write a program which will blink the LEDs light in sequence from left to right and back again with a frequency of 1 Hz. This pattern creates the \"lauflicht\" effect where light appears to move back and forth between leds. \n",
    "* start and stop the LED chaser on push button press\n",
    "* debounce the button press\n",
    "\n",
    "The aim of the exercise is to practice following skills\n",
    "* reading schematics: how are the LEDs and Buttons connected to the microcontroller.\n",
    "* using interrupts: how does microcontroller react to button press.\n",
    "* modeling with state machines: how do i model the led chaser starting and stopping on button press.\n",
    "* handle real-world problems: there is no perfect switch or push-button (see Debouncing)"
   ],
   "metadata": {
    "collapsed": false
   },
   "id": "7052c17b0ba1be3c"
  },
  {
   "cell_type": "code",
   "execution_count": 1,
   "outputs": [
    {
     "name": "stdout",
     "output_type": "stream",
     "text": [
      "\u001B[31mNo device connected\n",
      "\u001B[0m  %serialconnect or websocketconnect to connect\n",
      "  %lsmagic to list commands"
     ]
    }
   ],
   "source": [
    "# Use Micropython upydevice kernel in Jupyters\n",
    "%serialconnect /dev/tty.usbmodem11203 115200"
   ],
   "metadata": {
    "collapsed": false,
    "ExecuteTime": {
     "end_time": "2024-03-04T19:02:21.599648Z",
     "start_time": "2024-03-04T19:02:21.594788Z"
    }
   },
   "id": "ea9e6ff717227fb2"
  },
  {
   "cell_type": "markdown",
   "source": [
    "Concept Check\n",
    "* Which Pin is connected to to yellow led? \n",
    "* What is a pull-up resistor? What is the difference between internal and external pull-up?\n",
    "* Should 0 or 1 be written onto microcontroller pin so that it lights up?\n",
    "* What is the GPIO Mode for LED and Push Buttons respectively?\n",
    "* In what order should leds toggle and with what delay to realize the task?"
   ],
   "metadata": {
    "collapsed": false
   },
   "id": "bf4b8f02b1d32a9e"
  },
  {
   "cell_type": "code",
   "execution_count": 2,
   "outputs": [
    {
     "name": "stdout",
     "output_type": "stream",
     "text": [
      "\u001B[31mNo device connected\n",
      "\u001B[0m  %serialconnect or websocketconnect to connect\n",
      "  %lsmagic to list commands"
     ]
    }
   ],
   "source": [
    "import machine\n",
    "import time\n",
    "pins = ['C4', 'C5', 'C6', 'C7']\n",
    "led = [machine.Pin(pin,machine.Pin.OUT) for pin in pins]\n",
    "while True:\n",
    "    for i in range(0,len(led)-1):\n",
    "        led[i].value(0) \n",
    "        time.sleep(.25)\n",
    "        led[i].value(1)\n",
    "    for i in range(len(led)-1,0,-1):\n",
    "        led[i].value(0)\n",
    "        time.sleep(.25)\n",
    "        led[i].value(1)"
   ],
   "metadata": {
    "collapsed": false,
    "ExecuteTime": {
     "end_time": "2024-03-04T19:02:21.600309Z",
     "start_time": "2024-03-04T19:02:21.598529Z"
    }
   },
   "id": "b813d941072433e0"
  },
  {
   "cell_type": "markdown",
   "source": [
    "Pitfalls\n",
    "* Program Logic: Getting the led schedule using loops\n"
   ],
   "metadata": {
    "collapsed": false
   },
   "id": "912a05735cdd01e1"
  },
  {
   "cell_type": "markdown",
   "source": [
    "Optimization:\n",
    "\n",
    "* Do not repeat yourself (DRY)\n",
    "    * introduce function to make the code modular\n",
    "* code should be understandable \n",
    "    * proper naming of variables and functions\n",
    "    * define variable for constants "
   ],
   "metadata": {
    "collapsed": false
   },
   "id": "2b3d2195f69acc57"
  },
  {
   "cell_type": "code",
   "execution_count": null,
   "outputs": [],
   "source": [
    "import machine\n",
    "import time\n",
    "\n",
    "led_pins = ['C4', 'C5', 'C6', 'C7']\n",
    "led = [machine.Pin(pin,machine.Pin.OUT) for pin in led_pins]\n",
    "delay = .125\n",
    "\n",
    "def blink_led(i):\n",
    "    led[i].value(0) \n",
    "    time.sleep(delay)\n",
    "    led[i].value(1)    \n",
    "\n",
    "while True:\n",
    "    for i in range(0,len(led)-1): # left to right iteration(0,1,2)\n",
    "        blink_led(i)\n",
    "    for i in range(len(led)-1,0,-1): # reverse (3,2,1)\n",
    "        blink_led(i)"
   ],
   "metadata": {
    "collapsed": false
   },
   "id": "35618457bc2cfa97"
  },
  {
   "cell_type": "markdown",
   "source": [
    "Divide and Conquer is the most often seen development pattern. Here, first the led chaser application was developed without consideration of external events like pressing of push button. Now, the button press will trigger an interrupt which will be handled by a callback function. The aim of the callback function would be to change the state of the application from start to stop or the other way."
   ],
   "metadata": {
    "collapsed": false
   },
   "id": "b98008a33da00a10"
  },
  {
   "cell_type": "code",
   "execution_count": null,
   "outputs": [],
   "source": [],
   "metadata": {
    "collapsed": false
   },
   "id": "90ed2af5d65e6a5e"
  }
 ],
 "metadata": {
  "kernelspec": {
   "name": "python3",
   "language": "python",
   "display_name": "Python 3 (ipykernel)"
  },
  "language_info": {
   "codemirror_mode": {
    "name": "ipython",
    "version": 2
   },
   "file_extension": ".py",
   "mimetype": "text/x-python",
   "name": "python",
   "nbconvert_exporter": "python",
   "pygments_lexer": "ipython2",
   "version": "2.7.6"
  }
 },
 "nbformat": 4,
 "nbformat_minor": 5
}
