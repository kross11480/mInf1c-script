{
 "cells": [
  {
   "cell_type": "code",
   "execution_count": null,
   "id": "initial_id",
   "metadata": {
    "collapsed": true
   },
   "outputs": [],
   "source": [
    "import machine\n",
    "from random import random\n",
    "import time\n",
    "\n",
    "def set_reaction_time(pin):\n",
    "    global ev_btn\n",
    "    ev_btn = True\n",
    "\n",
    "def handler_timer(pin):\n",
    "    global ev_tim\n",
    "    ev_tim = True\n",
    "\n",
    "states = {'IDLE','READY','INVALID PRESS', 'PLAYER RESPONSE' 'VALID PRESS', 'LATE PRESS'}\n",
    "\n",
    "# Initialize Microcontroller\n",
    "green_led = machine.Pin('C6', machine.Pin.OUT)\n",
    "red_led = machine.Pin('C4', machine.Pin.OUT)\n",
    "s0_button = machine.Pin('B0', machine.Pin.IN, machine.Pin.PULL_UP)\n",
    "s0_button.irq(trigger = s0_button.IRQ_FALLING, handler = set_reaction_time)\n",
    "timer = machine.Timer()\n",
    "\n",
    "#Initialize State Machine\n",
    "state_ = 'IDLE'\n",
    "ev_btn = False #button event\n",
    "ev_tim = False #random timer expire (tr)\n",
    "t1 = 0\n",
    "while True:\n",
    "    if state_ == 'IDLE':\n",
    "        green_led.value(1)\n",
    "        red_led.value(1)        \n",
    "        if ev_btn:\n",
    "            #print ('pressed')\n",
    "            state_ = 'READY'\n",
    "            timer.init(period = int(random()*5000+1000), mode = machine.Timer.ONE_SHOT, callback= handler_timer)\n",
    "            ev_btn = False             \n",
    "    if state_ == 'READY':\n",
    "        green_led.value(0)\n",
    "        if ev_tim:\n",
    "            state_ = 'PLAYER RESPONSE'\n",
    "            red_led.value(0)\n",
    "            green_led.value(1)\n",
    "            t1 = time.ticks_ms()\n",
    "            ev_tim = False\n",
    "        if ev_btn:\n",
    "            state_ = 'INVALID PRESS'   \n",
    "    if state_ == 'PLAYER RESPONSE':\n",
    "        if ev_btn:\n",
    "            state_ = 'VALID PRESS'\n",
    "            ev_btn = False\n",
    "        if ev_tim:\n",
    "            state_ = 'LATE PRESS'         \n",
    "            ev_tim = False\n",
    "    if state_ == 'VALID PRESS':\n",
    "        print(\"Reaction Time:\", time.ticks_ms()- t1)\n",
    "        state_ = 'IDLE'\n",
    "    if state_ == 'LATE PRESS':\n",
    "        print(\"Wake up\")\n",
    "        state_ = 'IDLE'\n",
    "    if state_ == 'INVALID PRESS':\n",
    "        print(\"Trigger happy :-)\")\n",
    "        state_ = 'IDLE'"
   ]
  }
 ],
 "metadata": {
  "kernelspec": {
   "display_name": "Python 3",
   "language": "python",
   "name": "python3"
  },
  "language_info": {
   "codemirror_mode": {
    "name": "ipython",
    "version": 2
   },
   "file_extension": ".py",
   "mimetype": "text/x-python",
   "name": "python",
   "nbconvert_exporter": "python",
   "pygments_lexer": "ipython2",
   "version": "2.7.6"
  }
 },
 "nbformat": 4,
 "nbformat_minor": 5
}
