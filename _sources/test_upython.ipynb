{
 "cells": [
  {
   "cell_type": "markdown",
   "source": [
    "# Getting Started\n",
    "The simplest exercise to bring up any microcontroller board is to play with led (switch on, toggle, fade, ...).\n",
    "This jupyter notebook has a running micropython upydevice kernel. The following command can be used to connect with the STM32 board flashed with micropython."
   ],
   "metadata": {
    "collapsed": false
   },
   "id": "5634f2ec230923c5"
  },
  {
   "cell_type": "code",
   "execution_count": 23,
   "id": "1e69afb7-dceb-4657-8315-5953c8dbf42c",
   "metadata": {
    "ExecuteTime": {
     "end_time": "2024-03-04T13:55:25.485937Z",
     "start_time": "2024-03-04T13:55:24.014875Z"
    }
   },
   "outputs": [
    {
     "name": "stdout",
     "output_type": "stream",
     "text": [
      "\u001B[32m\n",
      " ** Serial connected **\n",
      "\n",
      "\u001B[0m"
     ]
    },
    {
     "name": "stderr",
     "output_type": "stream",
     "text": [
      "INFO:micropython-upydevice:Device pyboard connected in /dev/tty.usbmodem11203\n"
     ]
    },
    {
     "name": "stdout",
     "output_type": "stream",
     "text": [
      "SerialDevice @ /dev/tty.usbmodem11203, Type: pyboard, Class: SerialDevice\n",
      "Firmware: MicroPython v1.22.0-preview.208.gb5449b0f0.dirty on 2023-12-02; NUCLEO-L476RG with STM32L476RG\n",
      "STM32 STLink, Manufacturer: STMicroelectronics\n",
      "(MAC: 4d:00:20:00:0d:50:47:39:4b:37:33:20)\n",
      "\n",
      "MicroPython v1.22.0-preview.208.gb5449b0f0.dirty on 2023-12-02; NUCLEO-L476RG with STM32L476RG\n",
      "Type \"help()\" for more information.\n"
     ]
    }
   ],
   "source": [
    "%serialconnect /dev/tty.usbmodem11203 115200"
   ]
  },
  {
   "cell_type": "code",
   "execution_count": 21,
   "outputs": [
    {
     "name": "stdout",
     "output_type": "stream",
     "text": []
    },
    {
     "name": "stderr",
     "output_type": "stream",
     "text": [
      "Traceback (most recent call last):\n",
      "  File \"<stdin>\", line 8, in <module>\n",
      "KeyboardInterrupt: \n",
      "\n",
      "\n"
     ]
    }
   ],
   "source": [
    "import machine\n",
    "led = machine.Pin('A5', machine.Pin.OUT)\n",
    "led.on()"
   ],
   "metadata": {
    "collapsed": false,
    "ExecuteTime": {
     "end_time": "2024-02-26T23:41:25.168602Z",
     "start_time": "2024-02-26T23:41:10.918786Z"
    }
   },
   "id": "80de01b6e5960267"
  },
  {
   "cell_type": "code",
   "execution_count": 40,
   "outputs": [],
   "source": [],
   "metadata": {
    "collapsed": false,
    "ExecuteTime": {
     "end_time": "2024-02-26T23:24:29.222252Z",
     "start_time": "2024-02-26T23:24:29.203475Z"
    }
   },
   "id": "53b0d95e5e9140cb"
  },
  {
   "cell_type": "code",
   "execution_count": null,
   "outputs": [],
   "source": [],
   "metadata": {
    "collapsed": false
   },
   "id": "ba447be4d25d9ddf"
  }
 ],
 "metadata": {
  "kernelspec": {
   "name": "micropython-upydevice",
   "language": "python",
   "display_name": "MicroPython upydevice kernel"
  },
  "language_info": {
   "codemirror_mode": "python",
   "file_extension": ".py",
   "mimetype": "text/x-python",
   "name": "python",
   "pygments_lexer": "python"
  }
 },
 "nbformat": 4,
 "nbformat_minor": 5
}
